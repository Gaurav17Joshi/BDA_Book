{
 "cells": [
  {
   "attachments": {},
   "cell_type": "markdown",
   "metadata": {},
   "source": [
    "# Probability Basics\n",
    "\n",
    "This page will have the basics of probability and bayes rule to be used for data analysis\n",
    "\n",
    "## What is probability\n",
    "\n",
    "Frequentist View:\n",
    "\n",
    "Bayesian View:\n"
   ]
  },
  {
   "cell_type": "code",
   "execution_count": null,
   "metadata": {},
   "outputs": [],
   "source": []
  }
 ],
 "metadata": {
  "language_info": {
   "name": "python"
  },
  "orig_nbformat": 4
 },
 "nbformat": 4,
 "nbformat_minor": 2
}
